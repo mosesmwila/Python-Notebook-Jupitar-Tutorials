{
 "cells": [
  {
   "cell_type": "code",
   "execution_count": 37,
   "metadata": {},
   "outputs": [],
   "source": [
    "class Robot:\n",
    "    def __init__(self,name,color,weight):\n",
    "        self.name = name\n",
    "        self.color = color\n",
    "        self.weight = weight\n",
    "        \n",
    "    def introduce_yourself(self):\n",
    "        print(\"My name is \" + self.name)\n",
    " "
   ]
  },
  {
   "cell_type": "code",
   "execution_count": 40,
   "metadata": {},
   "outputs": [],
   "source": [
    "# r1 = Robot()\n",
    "# r1.name = \"Tom\"\n",
    "# r1.color =\"Blue\"\n",
    "# r1.weight = 40\n",
    "\n",
    "# r2 = Robot()\n",
    "# r2.name =\"Jerry\"\n",
    "# r2.color = \"Red\"\n",
    "# r2.weight = 30\n",
    "\n",
    "r1 = Robot(\"Tom\",\"Blue\",40)\n",
    "r2 = Robot(\"Jerry\", \"Red\" , 30)"
   ]
  },
  {
   "cell_type": "code",
   "execution_count": 41,
   "metadata": {},
   "outputs": [
    {
     "name": "stdout",
     "output_type": "stream",
     "text": [
      "My name is Tom\n",
      "\n",
      "My name is Jerry\n"
     ]
    }
   ],
   "source": [
    "r1.introduce_yourself()\n",
    "print(\"\")\n",
    "r2.introduce_yourself()"
   ]
  },
  {
   "cell_type": "code",
   "execution_count": null,
   "metadata": {},
   "outputs": [],
   "source": []
  }
 ],
 "metadata": {
  "kernelspec": {
   "display_name": "Python 3",
   "language": "python",
   "name": "python3"
  },
  "language_info": {
   "codemirror_mode": {
    "name": "ipython",
    "version": 3
   },
   "file_extension": ".py",
   "mimetype": "text/x-python",
   "name": "python",
   "nbconvert_exporter": "python",
   "pygments_lexer": "ipython3",
   "version": "3.8.5"
  }
 },
 "nbformat": 4,
 "nbformat_minor": 4
}
